{
 "cells": [
  {
   "cell_type": "code",
   "execution_count": null,
   "id": "initial_id",
   "metadata": {
    "collapsed": true,
    "ExecuteTime": {
     "end_time": "2024-03-30T08:54:29.297327500Z",
     "start_time": "2024-03-30T08:54:29.281184700Z"
    }
   },
   "outputs": [],
   "source": []
  },
  {
   "cell_type": "code",
   "outputs": [],
   "source": [
    "\n",
    "from dataset import get_dataloader\n",
    "\n",
    "corpus_path = \"../../data/corpus_demo.txt\"\n",
    "train_dataloader, test_dataloader = get_dataloader(corpus_path, batch_size=1)"
   ],
   "metadata": {
    "collapsed": false,
    "ExecuteTime": {
     "end_time": "2024-03-30T08:54:52.148449400Z",
     "start_time": "2024-03-30T08:54:29.305449900Z"
    }
   },
   "id": "364e32025e8eab5",
   "execution_count": 1
  },
  {
   "cell_type": "code",
   "outputs": [
    {
     "name": "stdout",
     "output_type": "stream",
     "text": [
      "1 1\n",
      "1 1\n",
      "1 1\n",
      "1 1\n",
      "1 1\n",
      "1 1\n",
      "1 1\n",
      "1 1\n",
      "1 1\n",
      "1 1\n",
      "1 1\n",
      "1 1\n",
      "1 1\n",
      "1 1\n",
      "1 1\n",
      "1 1\n",
      "1 1\n",
      "1 1\n",
      "1 1\n",
      "1 1\n"
     ]
    }
   ],
   "source": [
    "for x, y in train_dataloader:\n",
    "    print(len(x), len(y))"
   ],
   "metadata": {
    "collapsed": false,
    "ExecuteTime": {
     "end_time": "2024-03-30T08:54:52.165432100Z",
     "start_time": "2024-03-30T08:54:52.153136100Z"
    }
   },
   "id": "785c862b07b4dd10",
   "execution_count": 2
  },
  {
   "cell_type": "code",
   "outputs": [
    {
     "name": "stdout",
     "output_type": "stream",
     "text": [
      "128 128\n",
      "128 128\n",
      "128 128\n",
      "128 128\n",
      "128 128\n",
      "128 128\n",
      "128 128\n",
      "128 128\n",
      "128 128\n",
      "128 128\n",
      "128 128\n",
      "128 128\n",
      "128 128\n",
      "128 128\n",
      "128 128\n",
      "128 128\n",
      "128 128\n",
      "128 128\n",
      "128 128\n",
      "128 128\n"
     ]
    }
   ],
   "source": [
    "for x, y in train_dataloader:\n",
    "    print(len(x[0]), len(y[0]))"
   ],
   "metadata": {
    "collapsed": false,
    "ExecuteTime": {
     "end_time": "2024-03-30T08:57:12.849517800Z",
     "start_time": "2024-03-30T08:57:12.823811Z"
    }
   },
   "id": "ed3f53e900176f23",
   "execution_count": 5
  },
  {
   "cell_type": "code",
   "outputs": [],
   "source": [],
   "metadata": {
    "collapsed": false
   },
   "id": "54f8ccbebfe3c79d"
  }
 ],
 "metadata": {
  "kernelspec": {
   "display_name": "Python 3",
   "language": "python",
   "name": "python3"
  },
  "language_info": {
   "codemirror_mode": {
    "name": "ipython",
    "version": 2
   },
   "file_extension": ".py",
   "mimetype": "text/x-python",
   "name": "python",
   "nbconvert_exporter": "python",
   "pygments_lexer": "ipython2",
   "version": "2.7.6"
  }
 },
 "nbformat": 4,
 "nbformat_minor": 5
}
